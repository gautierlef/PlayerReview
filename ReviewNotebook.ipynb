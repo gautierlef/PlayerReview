{
 "cells": [
  {
   "cell_type": "code",
   "execution_count": 12,
   "metadata": {},
   "outputs": [],
   "source": [
    "import requests\n",
    "import re\n",
    "from bs4 import BeautifulSoup\n",
    "from requests_html import HTMLSession,AsyncHTMLSession\n",
    "from selenium import webdriver"
   ]
  },
  {
   "cell_type": "code",
   "execution_count": 14,
   "metadata": {},
   "outputs": [],
   "source": [
    "IS_LINUX = False"
   ]
  },
  {
   "cell_type": "code",
   "execution_count": 17,
   "metadata": {},
   "outputs": [],
   "source": [
    "chrome = webdriver.Chrome(executable_path=\"./chromedriver_win32/chromedriver.exe\" if not IS_LINUX else \"./chromedriver_linux\")"
   ]
  },
  {
   "cell_type": "code",
   "execution_count": 21,
   "metadata": {},
   "outputs": [],
   "source": [
    "chrome.get(get_steam_site('bullshit'))"
   ]
  },
  {
   "cell_type": "code",
   "execution_count": 22,
   "metadata": {},
   "outputs": [],
   "source": [
    "all_widgets = chrome.find_elements_by_id(\"games_list_rows\")"
   ]
  },
  {
   "cell_type": "code",
   "execution_count": 25,
   "metadata": {},
   "outputs": [],
   "source": [
    "first_line = all_widgets[0]"
   ]
  },
  {
   "cell_type": "code",
   "execution_count": 29,
   "metadata": {},
   "outputs": [],
   "source": [
    "all_first_line_elements = first_line.find_elements_by_class_name('gameListRow')"
   ]
  },
  {
   "cell_type": "code",
   "execution_count": 30,
   "metadata": {},
   "outputs": [
    {
     "output_type": "stream",
     "name": "stdout",
     "text": [
      "Dota 2\n",
      "864 heures en tout\n",
      "Liens Évaluation\n",
      "\n",
      "Counter-Strike: Global Offensive\n",
      "596 heures en tout\n",
      "Liens Voir les stats Évaluation\n",
      "\n",
      "Worm.is: The Game\n",
      "0.6 heures en tout\n",
      "Liens Évaluation\n",
      "\n",
      "Dota Underlords\n",
      "Liens Évaluation\n",
      "\n",
      "CS:GO Player Profiles: Edward - Na'Vi\n",
      "Liens Évaluation\n",
      "\n",
      "CS:GO Player Profiles: FalleN - Luminosity\n",
      "Liens Évaluation\n",
      "\n",
      "CS:GO Player Profiles: markeloff - Flipsid3\n",
      "Liens Évaluation\n",
      "\n",
      "CS:GO Player Profiles: n0thing - Cloud9\n",
      "Liens Évaluation\n",
      "\n",
      "CS:GO Player Profiles\n",
      "Liens Évaluation\n",
      "\n",
      "Aura Kingdom\n",
      "Liens Évaluation\n",
      "\n",
      "Business Tour - Online Multiplayer Board Game\n",
      "Liens Voir les stats Évaluation\n",
      "\n",
      "CS:GO Player Profiles: coldzera – SK Gaming\n",
      "Liens Évaluation\n",
      "\n",
      "CS:GO Player Profiles: Counter-Strike: A Brief History\n",
      "Liens Évaluation\n",
      "\n",
      "CS:GO Player Profiles: device - Team SoloMid\n",
      "Liens Évaluation\n",
      "\n",
      "CS:GO Player Profiles: Dupreeh - Astralis\n",
      "Liens Évaluation\n",
      "\n",
      "CS:GO Player Profiles: Fer - SK Gaming\n",
      "Liens Évaluation\n",
      "\n",
      "CS:GO Player Profiles: fnx - Luminosity\n",
      "Liens Évaluation\n",
      "\n",
      "CS:GO Player Profiles: Friberg - Ninjas in Pyjamas\n",
      "Liens Évaluation\n",
      "\n",
      "CS:GO Player Profiles: GeT_RiGhT - Ninjas in Pyjamas\n",
      "Liens Évaluation\n",
      "\n",
      "CS:GO Player Profiles: Guardian - Na'Vi\n",
      "Liens Évaluation\n",
      "\n",
      "CS:GO Player Profiles: Happy - Team EnVyUs\n",
      "Liens Évaluation\n",
      "\n",
      "CS:GO Player Profiles: Hiko - Team Liquid\n",
      "Liens Évaluation\n",
      "\n",
      "CS:GO Player Profiles: karrigan - Astralis\n",
      "Liens Évaluation\n",
      "\n",
      "CS:GO Player Profiles: kennyS - Team Envyus\n",
      "Liens Évaluation\n",
      "\n",
      "CS:GO Player Profiles: Maikelele - FaZe\n",
      "Liens Évaluation\n",
      "\n",
      "CS:GO Player Profiles: olofmeister - fnatic\n",
      "Liens Évaluation\n",
      "\n",
      "CS:GO Player Profiles: pashaBiceps - Virtus.Pro\n",
      "Liens Évaluation\n",
      "\n",
      "CS:GO Player Profiles: s1mple – Natus Vincere\n",
      "Liens Évaluation\n",
      "\n",
      "CS:GO Player Profiles: Tarik - Counter Logic Gaming\n",
      "Liens Évaluation\n",
      "\n",
      "CS:GO Player Profiles: TaZ - Virtus.Pro\n",
      "Liens Évaluation\n",
      "\n",
      "CS:GO Player Profiles: Zeus - Gambit\n",
      "Liens Évaluation\n",
      "\n",
      "Dota 2 Test\n",
      "Liens Évaluation\n",
      "\n",
      "HAWKEN\n",
      "Liens Évaluation\n",
      "\n",
      "La Tale\n",
      "Liens Évaluation\n",
      "\n",
      "MapleStory\n",
      "Liens Voir les stats Évaluation\n",
      "\n",
      "Marvel Heroes Omega\n",
      "Liens Voir les stats Évaluation\n",
      "\n",
      "PlanetSide 2\n",
      "Liens Évaluation\n",
      "\n",
      "PlanetSide 2 - Test\n",
      "Liens Évaluation\n",
      "\n",
      "Realm of the Mad God Exalt\n",
      "Liens Voir les stats Évaluation\n",
      "\n",
      "Unturned\n",
      "Liens Voir les stats Évaluation\n",
      "\n",
      "Unturned - Early Access\n",
      "Liens Évaluation\n",
      "\n",
      "VRChat\n",
      "Liens Évaluation\n",
      "\n",
      "Warframe\n",
      "Liens Voir les stats Évaluation\n",
      "\n"
     ]
    }
   ],
   "source": [
    "_ = [print(elt.text+ \"\\n\")  for elt in all_first_line_elements]"
   ]
  },
  {
   "cell_type": "code",
   "execution_count": 2,
   "metadata": {},
   "outputs": [],
   "source": [
    "class HttpRequest:\n",
    "    def __init__(self):\n",
    "        self.ua = \"User agent\"\n",
    "\n",
    "    def get_url(self, url, timeout=10, retry=4):\n",
    "        if retry < 1:\n",
    "            return None\n",
    "        headers = {\n",
    "            'User-Agent': 'Mozilla/5.0 (Windows NT 10.0; Win64; x64; rv:86.0) Gecko/20100101 Firefox/86.0'\n",
    "        }\n",
    "        try:\n",
    "            response = requests.get(url, headers=headers, timeout=5)\n",
    "            if response.status_code != 200:\n",
    "                raise requests.exceptions.BaseHTTPError\n",
    "            return BeautifulSoup(response.text, \"html.parser\")\n",
    "        except requests.exceptions.ConnectTimeout:\n",
    "            print(\"Timeout\")\n",
    "            self.get_url(url, timeout=timeout + 1, retry=retry - 1)\n",
    "        except requests.exceptions.BaseHTTPError:\n",
    "            print(\"Erreur\")\n",
    "            self.get_url(url, timeout=timeout, retry=retry - 1)"
   ]
  },
  {
   "cell_type": "code",
   "execution_count": 20,
   "metadata": {},
   "outputs": [],
   "source": [
    "def get_steam_site(username):\n",
    "    return ''.join(['https://steamcommunity.com/id/',username,'/games/?tab=all'])"
   ]
  },
  {
   "cell_type": "code",
   "execution_count": 51,
   "metadata": {},
   "outputs": [
    {
     "output_type": "execute_result",
     "data": {
      "text/plain": [
       "'https://steamcommunity.com/id/arakino/games/?tab=all'"
      ]
     },
     "metadata": {},
     "execution_count": 51
    }
   ],
   "source": [
    "get_steam_site('arakino')"
   ]
  },
  {
   "cell_type": "code",
   "execution_count": 18,
   "metadata": {},
   "outputs": [],
   "source": [
    "def get_lol_site(username):\n",
    "    return ''.join(['https://euw.op.gg/summoner/userName=',username])"
   ]
  },
  {
   "cell_type": "code",
   "execution_count": 19,
   "metadata": {},
   "outputs": [],
   "source": [
    "def get_wol_site(country,username):\n",
    "    return ''.join(['https://wol.gg/stats/',country,'/',username])"
   ]
  },
  {
   "cell_type": "code",
   "execution_count": 42,
   "metadata": {},
   "outputs": [
    {
     "output_type": "stream",
     "name": "stdout",
     "text": [
      "https://wol.gg/stats/kr/pensieve\n"
     ]
    }
   ],
   "source": [
    "print(get_wol_site('kr','pensieve'))"
   ]
  },
  {
   "cell_type": "code",
   "execution_count": 3,
   "metadata": {},
   "outputs": [],
   "source": [
    "liste_sites = ['https://euw.op.gg/summoner/userName=','https://wol.gg/stats/euw/','https://steamcommunity.com/id/USERNAME/games/?tab=all']"
   ]
  },
  {
   "cell_type": "code",
   "execution_count": 4,
   "metadata": {},
   "outputs": [],
   "source": [
    "pseudo = input('Entrer le pseudo que vous rechercher :')"
   ]
  },
  {
   "cell_type": "code",
   "execution_count": 64,
   "metadata": {},
   "outputs": [],
   "source": [
    "import pprint"
   ]
  },
  {
   "cell_type": "code",
   "execution_count": 62,
   "metadata": {},
   "outputs": [],
   "source": [
    "soup = HttpRequest().get_url(get_steam_site('bullshit'))"
   ]
  },
  {
   "cell_type": "code",
   "execution_count": 60,
   "metadata": {},
   "outputs": [],
   "source": [
    "rank = soup.find(\"h5\", class_=\"ellipsis hours_played\")"
   ]
  },
  {
   "cell_type": "code",
   "execution_count": 61,
   "metadata": {},
   "outputs": [],
   "source": [
    "rank"
   ]
  },
  {
   "cell_type": "code",
   "execution_count": null,
   "metadata": {},
   "outputs": [],
   "source": []
  }
 ],
 "metadata": {
  "kernelspec": {
   "name": "python383jvsc74a57bd00080ecd4778c7d1a1667ce7489f60c574f4c3d9325567cb571189e631df75c59",
   "display_name": "Python 3.8.3 64-bit (conda)"
  }
 },
 "nbformat": 4,
 "nbformat_minor": 4
}